{
 "cells": [
  {
   "cell_type": "code",
   "execution_count": 1,
   "metadata": {},
   "outputs": [],
   "source": [
    "import torch\n",
    "import numpy as np\n",
    "import os\n",
    "import sys\n",
    "import matplotlib.pyplot as plt"
   ]
  },
  {
   "cell_type": "markdown",
   "metadata": {},
   "source": [
    "### Load Predictions"
   ]
  },
  {
   "cell_type": "code",
   "execution_count": 2,
   "metadata": {},
   "outputs": [],
   "source": [
    "datapath_py =\"resources/saved/py_predicted.txt\"\n",
    "datapath_cpp =\"resources/saved/cpp_predicted.txt\"\n",
    "\n",
    "def read_predictions(datapath):\n",
    "    with open(datapath) as file_content:\n",
    "        file_content = [i for i in file_content.readlines()]\n",
    "    \n",
    "    out=[]\n",
    "    for i in file_content:\n",
    "        if i == '\\n':\n",
    "            print(\"Skip Empty line\")\n",
    "            continue\n",
    "        out_pair = list(map(float, i.split()))\n",
    "        out.append(out_pair)\n",
    "    \n",
    "    return np.array(out)"
   ]
  },
  {
   "cell_type": "code",
   "execution_count": 3,
   "metadata": {},
   "outputs": [
    {
     "name": "stdout",
     "output_type": "stream",
     "text": [
      "Skip Empty line\n",
      "Skip Empty line\n"
     ]
    }
   ],
   "source": [
    "py_pred = read_predictions(datapath_py)\n",
    "cpp_pred = read_predictions(datapath_cpp)"
   ]
  },
  {
   "cell_type": "markdown",
   "metadata": {},
   "source": [
    "### Print Predictions"
   ]
  },
  {
   "cell_type": "code",
   "execution_count": 4,
   "metadata": {},
   "outputs": [
    {
     "name": "stdout",
     "output_type": "stream",
     "text": [
      "Python fwd pass:  [[5.79098511 1.68282413]\n",
      " [3.79514885 1.50127339]\n",
      " [3.05594134 2.65454769]\n",
      " [3.59553909 1.0229435 ]\n",
      " [3.67793489 0.66021532]\n",
      " [4.15732527 0.90474343]\n",
      " [4.09724522 0.99075013]\n",
      " [2.9376111  1.04406965]\n",
      " [1.8372159  2.59138894]\n",
      " [1.23373771 2.04912949]\n",
      " [3.48744416 0.73090637]\n",
      " [2.71336007 0.22554693]\n",
      " [2.82046795 0.40351319]\n",
      " [2.87005043 1.63838708]\n",
      " [0.70065492 2.67366743]\n",
      " [0.88620341 2.66380835]\n",
      " [3.32769847 0.81819201]\n",
      " [2.49346495 0.60585958]\n",
      " [0.74832189 2.84791136]\n",
      " [2.2085979  1.51993418]\n",
      " [0.7664963  2.69486427]\n",
      " [2.67619324 0.70304364]\n",
      " [0.80111802 2.66594386]\n",
      " [1.17281389 3.57055759]\n",
      " [1.21135879 2.25158095]\n",
      " [1.03086376 2.40085602]\n",
      " [0.37634149 3.37193155]\n",
      " [1.39961958 2.71279001]\n",
      " [1.21885276 2.28670406]\n",
      " [0.65545332 3.94429827]\n",
      " [1.43623936 2.53711128]\n",
      " [1.88981557 3.04195762]\n",
      " [1.25789416 5.09653568]\n",
      " [1.65704513 5.76212788]]\n",
      "C++ fwd pass:  [[5.790986 1.682824]\n",
      " [3.795149 1.501273]\n",
      " [3.055941 2.654548]\n",
      " [3.595539 1.022943]\n",
      " [3.677935 0.660215]\n",
      " [4.157325 0.904744]\n",
      " [4.097245 0.99075 ]\n",
      " [2.937612 1.04407 ]\n",
      " [1.837216 2.591389]\n",
      " [1.233738 2.04913 ]\n",
      " [3.487444 0.730906]\n",
      " [2.71336  0.225547]\n",
      " [2.820468 0.403513]\n",
      " [2.87005  1.638387]\n",
      " [0.700655 2.673667]\n",
      " [0.886203 2.663809]\n",
      " [3.327699 0.818192]\n",
      " [2.493465 0.60586 ]\n",
      " [0.748322 2.847911]\n",
      " [2.208598 1.519934]\n",
      " [0.766496 2.694864]\n",
      " [2.676193 0.703044]\n",
      " [0.801118 2.665944]\n",
      " [1.172814 3.570558]\n",
      " [1.211359 2.251581]\n",
      " [1.030864 2.400856]\n",
      " [0.376341 3.371932]\n",
      " [1.39962  2.71279 ]\n",
      " [1.218853 2.286704]\n",
      " [0.655453 3.944298]\n",
      " [1.436239 2.537111]\n",
      " [1.889816 3.041958]\n",
      " [1.257894 5.096536]\n",
      " [1.657045 5.762127]]\n"
     ]
    }
   ],
   "source": [
    "print(\"Python fwd pass: \", py_pred)\n",
    "print(\"C++ fwd pass: \", cpp_pred)"
   ]
  },
  {
   "cell_type": "markdown",
   "metadata": {},
   "source": [
    "### Scatter Plots"
   ]
  },
  {
   "cell_type": "code",
   "execution_count": 5,
   "metadata": {},
   "outputs": [
    {
     "data": {
      "text/plain": [
       "<matplotlib.collections.PathCollection at 0x11183d5d0>"
      ]
     },
     "execution_count": 5,
     "metadata": {},
     "output_type": "execute_result"
    },
    {
     "data": {
      "image/png": "[encoded data removed]",
      "text/plain": [
       "<Figure size 432x288 with 1 Axes>"
      ]
     },
     "metadata": {
      "needs_background": "light"
     },
     "output_type": "display_data"
    }
   ],
   "source": [
    "plt.scatter(py_pred[:,0], py_pred[:,1])"
   ]
  },
  {
   "cell_type": "code",
   "execution_count": 6,
   "metadata": {
    "scrolled": true
   },
   "outputs": [
    {
     "data": {
      "text/plain": [
       "<matplotlib.collections.PathCollection at 0x12bf6cc50>"
      ]
     },
     "execution_count": 6,
     "metadata": {},
     "output_type": "execute_result"
    },
    {
     "data": {
      "image/png": "[encoded data removed]",
      "text/plain": [
       "<Figure size 432x288 with 1 Axes>"
      ]
     },
     "metadata": {
      "needs_background": "light"
     },
     "output_type": "display_data"
    }
   ],
   "source": [
    "plt.scatter(cpp_pred[:,0], cpp_pred[:,1])"
   ]
  },
  {
   "cell_type": "markdown",
   "metadata": {},
   "source": [
    "### Error"
   ]
  },
  {
   "cell_type": "code",
   "execution_count": 7,
   "metadata": {},
   "outputs": [],
   "source": [
    "err_arr = py_pred-cpp_pred"
   ]
  },
  {
   "cell_type": "code",
   "execution_count": 8,
   "metadata": {
    "scrolled": false
   },
   "outputs": [
    {
     "data": {
      "text/plain": [
       "array([[-8.92578125e-07,  1.34826660e-07],\n",
       "       [-1.50512695e-07,  3.93630981e-07],\n",
       "       [ 3.43307495e-07, -3.08654785e-07],\n",
       "       [ 9.30175781e-08,  4.96704102e-07],\n",
       "       [-1.14974976e-07,  3.18202972e-07],\n",
       "       [ 2.67791748e-07, -5.67001343e-07],\n",
       "       [ 2.16369629e-07,  1.33991241e-07],\n",
       "       [-8.96942139e-07, -3.52210999e-07],\n",
       "       [-9.95788574e-08, -5.91888427e-08],\n",
       "       [-2.92861938e-07, -5.13916016e-07],\n",
       "       [ 1.62368774e-07,  3.67301941e-07],\n",
       "       [ 7.11822508e-08, -7.37400055e-08],\n",
       "       [-5.10864258e-08,  1.93130493e-07],\n",
       "       [ 4.30297852e-07,  8.40072631e-08],\n",
       "       [-7.60841370e-08,  4.30877686e-07],\n",
       "       [ 4.08241272e-07, -6.54205322e-07],\n",
       "       [-5.30838013e-07,  5.15747067e-09],\n",
       "       [-5.32531739e-08, -4.22344208e-07],\n",
       "       [-1.09169006e-07,  3.57879639e-07],\n",
       "       [-1.01516723e-07,  1.77398682e-07],\n",
       "       [ 3.00697327e-07,  2.73071289e-07],\n",
       "       [ 2.37304687e-07, -3.60340118e-07],\n",
       "       [ 1.62429810e-08, -1.38992310e-07],\n",
       "       [-1.07635498e-07, -4.05700684e-07],\n",
       "       [-2.14370728e-07, -4.64019774e-08],\n",
       "       [-2.38098145e-07,  1.80664061e-08],\n",
       "       [ 4.91937637e-07, -4.47113037e-07],\n",
       "       [-4.20684815e-07,  1.23596191e-08],\n",
       "       [-2.41592407e-07,  6.34155275e-08],\n",
       "       [ 3.24317932e-07,  2.67364502e-07],\n",
       "       [ 3.61763000e-07,  2.82348633e-07],\n",
       "       [-4.31076050e-07, -3.83193970e-07],\n",
       "       [ 1.58363342e-07, -3.17321778e-07],\n",
       "       [ 1.25961304e-07,  8.76281738e-07]])"
      ]
     },
     "execution_count": 8,
     "metadata": {},
     "output_type": "execute_result"
    }
   ],
   "source": [
    "err_arr"
   ]
  },
  {
   "cell_type": "markdown",
   "metadata": {},
   "source": [
    "### Norm"
   ]
  },
  {
   "cell_type": "code",
   "execution_count": 9,
   "metadata": {},
   "outputs": [
    {
     "name": "stdout",
     "output_type": "stream",
     "text": [
      "Norms for python predictions and c++ predictions: 20.656949141902103 20.65694939092029\n"
     ]
    }
   ],
   "source": [
    "py_pred_norm = np.linalg.norm(py_pred)\n",
    "cpp_pred_norm = np.linalg.norm(cpp_pred)\n",
    "\n",
    "print(\"Norms for python predictions and c++ predictions:\", py_pred_norm, cpp_pred_norm)"
   ]
  },
  {
   "cell_type": "markdown",
   "metadata": {},
   "source": [
    "### np.allclose()"
   ]
  },
  {
   "cell_type": "code",
   "execution_count": 10,
   "metadata": {},
   "outputs": [
    {
     "data": {
      "text/plain": [
       "True"
      ]
     },
     "execution_count": 10,
     "metadata": {},
     "output_type": "execute_result"
    }
   ],
   "source": [
    "# True if two arrays are element-wise equal within a tolerance.\n",
    "np.allclose(py_pred, cpp_pred) # default rtol=1e-05 "
   ]
  }
 ],
 "metadata": {
  "kernelspec": {
   "display_name": "Python 3",
   "language": "python",
   "name": "python3"
  },
  "language_info": {
   "codemirror_mode": {
    "name": "ipython",
    "version": 3
   },
   "file_extension": ".py",
   "mimetype": "text/x-python",
   "name": "python",
   "nbconvert_exporter": "python",
   "pygments_lexer": "ipython3",
   "version": "3.7.5"
  }
 },
 "nbformat": 4,
 "nbformat_minor": 2
}
